{
 "cells": [
  {
   "cell_type": "markdown",
   "id": "77a04006",
   "metadata": {},
   "source": [
    "# Write a Python program to check if all dictionaries in a list are empty or not.\n"
   ]
  },
  {
   "cell_type": "code",
   "execution_count": 2,
   "id": "ceeaad14",
   "metadata": {},
   "outputs": [
    {
     "name": "stdout",
     "output_type": "stream",
     "text": [
      "True\n",
      "False\n"
     ]
    }
   ],
   "source": [
    "a= [{},{},{}]\n",
    "b = [{123,2345},{},{}]\n",
    "print(all(not i for i in a))\n",
    "print(all(not i for i in b))\n"
   ]
  },
  {
   "cell_type": "markdown",
   "id": "80433801",
   "metadata": {},
   "source": [
    "# Write a Python program to remove duplicates from a list of lists.\n"
   ]
  },
  {
   "cell_type": "code",
   "execution_count": 11,
   "id": "e2995094",
   "metadata": {},
   "outputs": [
    {
     "name": "stdout",
     "output_type": "stream",
     "text": [
      "[[1, 2], [4], [5, 6, 2], [3]]\n"
     ]
    }
   ],
   "source": [
    "k = [[1, 2], [4], [5, 6, 2], [1, 2], [3], [4]]\n",
    "new_k = []\n",
    "for elem in k:\n",
    "    if elem not in new_k:\n",
    "        new_k.append(elem)\n",
    "k = new_k\n",
    "print (k)\n"
   ]
  },
  {
   "cell_type": "markdown",
   "id": "6af188b0",
   "metadata": {},
   "source": [
    "# Write a Python program to extend a list without append."
   ]
  },
  {
   "cell_type": "code",
   "execution_count": 12,
   "id": "4e829c9b",
   "metadata": {},
   "outputs": [
    {
     "name": "stdout",
     "output_type": "stream",
     "text": [
      "[3, 5, 7, 9, 1, 2, 4, 6]\n"
     ]
    }
   ],
   "source": [
    "list1=[3,5,7,9]\n",
    "list1=list1+[1,2,4,6]\n",
    "print(list1)"
   ]
  },
  {
   "cell_type": "code",
   "execution_count": 13,
   "id": "2f8159db",
   "metadata": {},
   "outputs": [
    {
     "name": "stdout",
     "output_type": "stream",
     "text": [
      "['a', 'b', 'c', 'd', 'e', 'f']\n"
     ]
    }
   ],
   "source": [
    "from itertools import *\n",
    "a = [\"a\",\"b\",\"c\"]\n",
    "  \n",
    "print(list(chain(a, [\"d\",\"e\",\"f\"])))"
   ]
  },
  {
   "cell_type": "code",
   "execution_count": 15,
   "id": "658fbed0",
   "metadata": {},
   "outputs": [
    {
     "name": "stdout",
     "output_type": "stream",
     "text": [
      "['a', 'b', 'c', 'd', 'e', 'f']\n"
     ]
    }
   ],
   "source": [
    "a = [\"a\",\"b\",\"c\"]\n",
    "b=[\"d\",\"e\",\"f\"]\n",
    "a.extend(b)\n",
    "print(a)"
   ]
  },
  {
   "cell_type": "markdown",
   "id": "fd81938d",
   "metadata": {},
   "source": [
    "# Write a Python program to find the list in a list of lists whose sum of elements is the highest\n"
   ]
  },
  {
   "cell_type": "code",
   "execution_count": 50,
   "id": "2dcb8c93",
   "metadata": {},
   "outputs": [
    {
     "name": "stdout",
     "output_type": "stream",
     "text": [
      "[10, 12, 14]\n"
     ]
    }
   ],
   "source": [
    "list1= [ [10,12,14], [1,3,15], [7,8,9]]\n",
    "print(max(list1, key=sum))"
   ]
  },
  {
   "cell_type": "markdown",
   "id": "45fd6d51",
   "metadata": {},
   "source": [
    "# Write a Python program to access dictionary key’s element by index."
   ]
  },
  {
   "cell_type": "code",
   "execution_count": 54,
   "id": "d4dd58c7",
   "metadata": {},
   "outputs": [
    {
     "name": "stdout",
     "output_type": "stream",
     "text": [
      "physics\n"
     ]
    }
   ],
   "source": [
    "school={'physics':\"seema\",\"chem\":\"janaki\",\"math\":\"subrat\"}\n",
    "print(list(school)[0])"
   ]
  },
  {
   "cell_type": "markdown",
   "id": "22a3f08e",
   "metadata": {},
   "source": [
    "# Write a Python program to iterate over two lists simultaneously."
   ]
  },
  {
   "cell_type": "code",
   "execution_count": 55,
   "id": "022e053d",
   "metadata": {},
   "outputs": [
    {
     "name": "stdout",
     "output_type": "stream",
     "text": [
      "1 hibiscus\n",
      "2 rose\n",
      "3 lily\n"
     ]
    }
   ],
   "source": [
    "a=[1,2,3,4]\n",
    "b=[\"hibiscus\",\"rose\",\"lily\"]\n",
    "for(i,j) in zip(a,b):\n",
    "    print(i,j)"
   ]
  },
  {
   "cell_type": "markdown",
   "id": "ecf646cb",
   "metadata": {},
   "source": [
    "# write a program to insert a string at the begining of every elements in a list"
   ]
  },
  {
   "cell_type": "code",
   "execution_count": 104,
   "id": "76da6452",
   "metadata": {},
   "outputs": [
    {
     "name": "stdout",
     "output_type": "stream",
     "text": [
      "['aksh100', 'aksh200', 'aksh300', 'aksh400']\n"
     ]
    }
   ],
   "source": [
    "def in_string(list, str):\n",
    "      \n",
    "    \n",
    "    str += '{0}'\n",
    "    list = [str.format(i) for i in list]\n",
    "    return(list)\n",
    "  \n",
    "\n",
    "list = [100, 200, 300, 400]\n",
    "str = 'aksh'\n",
    "print(in_string(list, str))"
   ]
  },
  {
   "cell_type": "markdown",
   "id": "bb9b564e",
   "metadata": {},
   "source": [
    "# write a program to take two lists and print if they have at least one common member\n"
   ]
  },
  {
   "cell_type": "code",
   "execution_count": 72,
   "id": "2732100b",
   "metadata": {},
   "outputs": [
    {
     "name": "stdout",
     "output_type": "stream",
     "text": [
      "True\n"
     ]
    }
   ],
   "source": [
    "def common_member(list1,list2):\n",
    "    result=False\n",
    "    for i in list1:\n",
    "        for j in list2:\n",
    "            if i==j:\n",
    "                result=True\n",
    "                return result \n",
    "\n",
    "print(common_member([121,222,332,432,125], [125,236,457,678,779]))         "
   ]
  },
  {
   "cell_type": "markdown",
   "id": "eef611c6",
   "metadata": {},
   "source": [
    "#  compute all permutations in a list\n"
   ]
  },
  {
   "cell_type": "code",
   "execution_count": 1,
   "id": "65c3bf1b",
   "metadata": {},
   "outputs": [
    {
     "name": "stdout",
     "output_type": "stream",
     "text": [
      "[(12, 22, 23), (12, 23, 22), (22, 12, 23), (22, 23, 12), (23, 12, 22), (23, 22, 12)]\n"
     ]
    }
   ],
   "source": [
    "import itertools\n",
    "print(list(itertools.permutations([12,22,23])))\n"
   ]
  },
  {
   "cell_type": "code",
   "execution_count": null,
   "id": "eb7cb8c6",
   "metadata": {},
   "outputs": [],
   "source": []
  },
  {
   "cell_type": "code",
   "execution_count": null,
   "id": "311440df",
   "metadata": {},
   "outputs": [],
   "source": []
  }
 ],
 "metadata": {
  "kernelspec": {
   "display_name": "Python 3 (ipykernel)",
   "language": "python",
   "name": "python3"
  },
  "language_info": {
   "codemirror_mode": {
    "name": "ipython",
    "version": 3
   },
   "file_extension": ".py",
   "mimetype": "text/x-python",
   "name": "python",
   "nbconvert_exporter": "python",
   "pygments_lexer": "ipython3",
   "version": "3.9.7"
  }
 },
 "nbformat": 4,
 "nbformat_minor": 5
}
